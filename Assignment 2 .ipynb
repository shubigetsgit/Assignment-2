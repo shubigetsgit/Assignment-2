{
 "cells": [
  {
   "cell_type": "code",
   "execution_count": 7,
   "id": "94aa2e2b",
   "metadata": {},
   "outputs": [
    {
     "name": "stdout",
     "output_type": "stream",
     "text": [
      "[(5, 1), (8, 2), (1, 3), (7, 4), (5, 5), (2, 6), (9, 7), (1, 8)]\n"
     ]
    }
   ],
   "source": [
    "a = [(8,2),(9,7),(7,4),(1,3),(5,1),(5,5),(1,8),(2,6)]\n",
    "def last (n):\n",
    "    return n[-1]\n",
    "def sort (a):\n",
    "    return sorted (a, key = last)\n",
    "print (sort(a))"
   ]
  },
  {
   "cell_type": "code",
   "execution_count": 14,
   "id": "e0b504b0",
   "metadata": {},
   "outputs": [
    {
     "name": "stdout",
     "output_type": "stream",
     "text": [
      "[(5, 1), (8, 2), (9, 2), (1, 3), (7, 4), (5, 5)]\n"
     ]
    }
   ],
   "source": [
    "a = [(8,2),(9,2),(7,4),(1,3),(5,1),(5,5)]\n",
    "def last (n):\n",
    "    return n[-1]\n",
    "def sort (a):\n",
    "    return sorted (a, key = last)\n",
    "print (sort(a))"
   ]
  },
  {
   "cell_type": "code",
   "execution_count": null,
   "id": "4172ab9f",
   "metadata": {},
   "outputs": [],
   "source": []
  }
 ],
 "metadata": {
  "kernelspec": {
   "display_name": "Python 3 (ipykernel)",
   "language": "python",
   "name": "python3"
  },
  "language_info": {
   "codemirror_mode": {
    "name": "ipython",
    "version": 3
   },
   "file_extension": ".py",
   "mimetype": "text/x-python",
   "name": "python",
   "nbconvert_exporter": "python",
   "pygments_lexer": "ipython3",
   "version": "3.10.6"
  }
 },
 "nbformat": 4,
 "nbformat_minor": 5
}
